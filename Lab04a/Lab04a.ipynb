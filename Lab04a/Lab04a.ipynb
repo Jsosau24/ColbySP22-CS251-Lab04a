{
 "cells": [
  {
   "cell_type": "markdown",
   "metadata": {},
   "source": [
    "**YOUR NAME**\n",
    "\n",
    "Spring 2022\n",
    "\n",
    "CS 251: Data Analysis and Visualization"
   ]
  },
  {
   "cell_type": "markdown",
   "metadata": {},
   "source": [
    "# Lab 4a: Pandas and Principle Component Analysis"
   ]
  },
  {
   "cell_type": "code",
   "execution_count": 9,
   "metadata": {},
   "outputs": [
    {
     "name": "stdout",
     "output_type": "stream",
     "text": [
      "The autoreload extension is already loaded. To reload it, use:\n",
      "  %reload_ext autoreload\n"
     ]
    }
   ],
   "source": [
    "import os\n",
    "import random\n",
    "import numpy as np\n",
    "import matplotlib.pyplot as plt\n",
    "import pandas as pd\n",
    "import scipy as sp\n",
    "from mpl_toolkits.mplot3d import Axes3D\n",
    "\n",
    "plt.style.use(['seaborn-colorblind', 'seaborn-darkgrid'])\n",
    "plt.rcParams.update({'font.size': 10})\n",
    "plt.rcParams.update({'figure.figsize': [8,8]})\n",
    "\n",
    "np.set_printoptions(suppress=True, precision=5)\n",
    "\n",
    "# Automatically reload external modules\n",
    "%load_ext autoreload\n",
    "%autoreload 2"
   ]
  },
  {
   "cell_type": "markdown",
   "metadata": {},
   "source": [
    " \n",
    "\n",
    "## Task 1:  Introduction to Pandas\n",
    "\n",
    "We are going to be using Pandas, covariance matrices and principle component analysis to explore a dataset on breast cancer diagnosis data. More information about the dataset can be found [here.](https://archive.ics.uci.edu/ml/datasets/Breast+Cancer+Wisconsin+(Original))\n",
    "1. Import dataset using pandas [read_csv](https://pandas.pydata.org/pandas-docs/stable/reference/api/pandas.read_csv.html) to create a Dataframe from the url:  https://raw.githubusercontent.com/patrickmlong/Breast-Cancer-Wisconsin-Diagnostic-DataSet/master/data.csv \n",
    "2. Using the [Dataframe](https://pandas.pydata.org/pandas-docs/stable/reference/frame.html) documentation:\n",
    "    1. In one method call get the shape and print the results.\n",
    "    2. To get the column headers and print them.\n",
    "    3. In one method call get the first 5 items and print the results.\n",
    "    4. Find the mean of each column\n",
    "3. Create a `cancer_x` dataframe which includes columns 2-11 (radius_mean - fractal_dimension_mean).\n",
    "4. Update `cancer_x` to be normalized from 0-1, by subtracting by the minimum and dividing by the range. \n",
    "5. Create a `cancer_y` series with from the column `diagnosis` and set it to be [lowercase](https://pandas.pydata.org/pandas-docs/stable/reference/api/pandas.Series.str.capitalize.html)\n"
   ]
  },
  {
   "cell_type": "code",
   "execution_count": 10,
   "metadata": {},
   "outputs": [
    {
     "name": "stdout",
     "output_type": "stream",
     "text": [
      "(569, 10)\n",
      "   radius_mean  texture_mean  perimeter_mean  area_mean  smoothness_mean  \\\n",
      "0     0.521037      0.022658        0.545989   0.363733         0.593753   \n",
      "1     0.643144      0.272574        0.615783   0.501591         0.289880   \n",
      "2     0.601496      0.390260        0.595743   0.449417         0.514309   \n",
      "3     0.210090      0.360839        0.233501   0.102906         0.811321   \n",
      "4     0.629893      0.156578        0.630986   0.489290         0.430351   \n",
      "\n",
      "   compactness_mean  concavity_mean  concave points_mean  symmetry_mean  \\\n",
      "0          0.792037        0.703140             0.731113       0.686364   \n",
      "1          0.181768        0.203608             0.348757       0.379798   \n",
      "2          0.431017        0.462512             0.635686       0.509596   \n",
      "3          0.811361        0.565604             0.522863       0.776263   \n",
      "4          0.347893        0.463918             0.518390       0.378283   \n",
      "\n",
      "   fractal_dimension_mean  \n",
      "0                0.605518  \n",
      "1                0.141323  \n",
      "2                0.211247  \n",
      "3                1.000000  \n",
      "4                0.186816  \n",
      "Index(['radius_mean', 'texture_mean', 'perimeter_mean', 'area_mean',\n",
      "       'smoothness_mean', 'compactness_mean', 'concavity_mean',\n",
      "       'concave points_mean', 'symmetry_mean', 'fractal_dimension_mean'],\n",
      "      dtype='object')\n",
      "radius_mean               0.338222\n",
      "texture_mean              0.323965\n",
      "perimeter_mean            0.332935\n",
      "area_mean                 0.216920\n",
      "smoothness_mean           0.394785\n",
      "compactness_mean          0.260601\n",
      "concavity_mean            0.208058\n",
      "concave points_mean       0.243137\n",
      "symmetry_mean             0.379605\n",
      "fractal_dimension_mean    0.270379\n",
      "dtype: float64\n"
     ]
    }
   ],
   "source": [
    "url=\"https://raw.githubusercontent.com/patrickmlong/Breast-Cancer-Wisconsin-Diagnostic-DataSet/master/data.csv\"\n",
    "ds = pd.read_csv(\"data.csv\")\n",
    "#print(ds)\n",
    "\n",
    "data = pd.DataFrame(ds)\n",
    "\n",
    "def print_size(df = pd.DataFrame()):\n",
    "    print(df.shape)\n",
    "    return df.shape\n",
    "    \n",
    "def print_headers(df = pd.DataFrame()):\n",
    "    print(df.columns)\n",
    "    return df.columns\n",
    "    \n",
    "def print_5items(df = pd.DataFrame()):\n",
    "    print(df.head(5))\n",
    "    return df.head(5)\n",
    "    \n",
    "def mean_col(df = pd.DataFrame()):\n",
    "    mean = df.mean(axis=0)\n",
    "    return mean\n",
    "    \n",
    "cancer_x = data[[\"radius_mean\",\"texture_mean\",\"perimeter_mean\",\"area_mean\",\"smoothness_mean\",\"compactness_mean\",\"concavity_mean\",\"concave points_mean\",\"symmetry_mean\",\"fractal_dimension_mean\"]]\n",
    "\n",
    "cancer_x_min = cancer_x.min(axis=0)\n",
    "cancer_x_max = cancer_x.max(axis=0)\n",
    "cancer_x_range = cancer_x_max - cancer_x_min\n",
    "\n",
    "cancer_x = cancer_x.subtract(cancer_x_min, axis = 1)\n",
    "cancer_x = cancer_x.div(cancer_x_range, axis = 1)\n",
    "\n",
    "cancer_y = pd.Series(data[\"diagnosis\"])\n",
    "\n",
    "cancer_y = cancer_y.str.lower()\n",
    "\n",
    "print_size(cancer_x)\n",
    "print_5items(cancer_x)\n",
    "print_headers(cancer_x)\n",
    "print(mean_col(cancer_x))"
   ]
  },
  {
   "cell_type": "code",
   "execution_count": 11,
   "metadata": {},
   "outputs": [
    {
     "name": "stdout",
     "output_type": "stream",
     "text": [
      "[[842302 'M' 17.99 ... 0.4601 0.1189 nan]\n",
      " [842517 'M' 20.57 ... 0.275 0.08902 nan]\n",
      " [84300903 'M' 19.69 ... 0.3613 0.08757999999999999 nan]\n",
      " ...\n",
      " [926954 'M' 16.6 ... 0.2218 0.0782 nan]\n",
      " [927241 'M' 20.6 ... 0.4087 0.124 nan]\n",
      " [92751 'B' 7.76 ... 0.2871 0.07039 nan]]\n"
     ]
    }
   ],
   "source": [
    "arr = data.to_numpy()\n",
    "print (arr)"
   ]
  },
  {
   "cell_type": "markdown",
   "metadata": {},
   "source": [
    "## Task 2: Create and Visualize a Covariance Matrix\n",
    "\n",
    "1. Use the [Dataframe](https://pandas.pydata.org/pandas-docs/stable/reference/frame.html) documentation to find out how to compute the pairwise covariance of the `cancer_x` columns, store the resulting covariance matrix, and print its shape.\n",
    "2. Use the [matplotlib](https://matplotlib.org/3.1.1/gallery/images_contours_and_fields/image_annotated_heatmap.html) and [imshow](https://matplotlib.org/3.1.1/api/_as_gen/matplotlib.axes.Axes.imshow.html) documentation to visualize the covariance matrix with a heatmap.\n",
    "    1. Include a title\n",
    "    2. Include labels for each row and column \n",
    "        1. Set the `xticks`, `yticks`, `xticklabels` and `ytickslabels`\n",
    "        1. If necessary, rotating the text for the x-axis using `setp`\n",
    "    3. Use an perceptually uniform sequential [colormap](https://matplotlib.org/tutorials/colors/colormaps.html). \n",
    "        1. Set it using the `cmap` parameter for `imshow`\n",
    "    4. Include a [colorbar](https://matplotlib.org/3.1.1/gallery/axes_grid1/simple_colorbar.html).\n",
    "    \n",
    "**Question:** What interpretations can you draw from this covariance matrix?\n",
    "\n",
    "the more yellow the color the higher the covariance"
   ]
  },
  {
   "cell_type": "code",
   "execution_count": 36,
   "metadata": {},
   "outputs": [
    {
     "name": "stdout",
     "output_type": "stream",
     "text": [
      "Index(['radius_mean', 'texture_mean', 'perimeter_mean', 'area_mean',\n",
      "       'smoothness_mean', 'compactness_mean', 'concavity_mean',\n",
      "       'concave points_mean', 'symmetry_mean', 'fractal_dimension_mean'],\n",
      "      dtype='object')\n"
     ]
    },
    {
     "name": "stderr",
     "output_type": "stream",
     "text": [
      "/var/folders/yt/phmg65gs4j3f9j39z8w779540000gn/T/ipykernel_29960/3678707847.py:15: MatplotlibDeprecationWarning: Auto-removal of grids by pcolor() and pcolormesh() is deprecated since 3.5 and will be removed two minor releases later; please call grid(False) first.\n",
      "  cbar = ax.figure.colorbar(im, ax=ax)\n"
     ]
    },
    {
     "data": {
      "image/png": "[encoded data removed]",
      "text/plain": [
       "<Figure size 576x576 with 2 Axes>"
      ]
     },
     "metadata": {},
     "output_type": "display_data"
    },
    {
     "data": {
      "text/plain": [
       "'plt.imshow(cov_mat, cmap=\\'viridis\\')\\nheaders = print_headers(cancer_x)\\nplt.set_xticks(range(headers))\\nplt.set_xticklabels(headers)\\nplt.colorbar()\\nplt.title(\"COVARIANCE CANCER_X\")\\nplt.show()'"
      ]
     },
     "execution_count": 36,
     "metadata": {},
     "output_type": "execute_result"
    }
   ],
   "source": [
    "cov_mat = cancer_x.cov()\n",
    "#print(cov_mat)\n",
    "\n",
    "fig, ax = plt.subplots()\n",
    "im = ax.imshow(cov_mat, cmap='viridis')\n",
    "\n",
    "headers = print_headers(cancer_x)\n",
    "\n",
    "ax.set_xticks(np.arange(len(headers)), labels=headers)\n",
    "ax.set_yticks(np.arange(len(headers)), labels=headers)\n",
    "\n",
    "ax.set_title(\"COVARIANCE CANCER_X\")\n",
    "plt.setp(ax.get_xticklabels(), rotation=45, ha=\"right\",rotation_mode=\"anchor\")\n",
    "\n",
    "cbar = ax.figure.colorbar(im, ax=ax)\n",
    "\n",
    "fig.tight_layout()\n",
    "plt.show()\n",
    "\n",
    "\"\"\"plt.imshow(cov_mat, cmap='viridis')\n",
    "headers = print_headers(cancer_x)\n",
    "plt.set_xticks(range(headers))\n",
    "plt.set_xticklabels(headers)\n",
    "plt.colorbar()\n",
    "plt.title(\"COVARIANCE CANCER_X\")\n",
    "plt.show()\"\"\""
   ]
  },
  {
   "cell_type": "markdown",
   "metadata": {},
   "source": [
    "## Task 3: Visualizing Principle Component Analysis\n",
    "\n",
    "### 3a) Principle Component Analysis\n",
    "1. Use [numpy.linalg.eig](https://docs.scipy.org/doc/numpy/reference/generated/numpy.linalg.eig.html) to compute the eigenvalues and right eigenvectors of the covariance matrix.  \n",
    "1. Print the eigen_values and the first 2 eigenvectors.\n",
    "2. Transform the data with the eigen_vectors.\n",
    "    1. Matrix multiply cancer_x with the first two columns of the eigen_vectors. \n",
    "    2. Print the first 5 rows of the transformed data.\n",
    "\n",
    "**Question:**  Which 2 variables are the first eigenvector most dependent on?  How does that relate to the heatmap?"
   ]
  },
  {
   "cell_type": "code",
   "execution_count": 56,
   "metadata": {},
   "outputs": [
    {
     "name": "stdout",
     "output_type": "stream",
     "text": [
      "[[-0.36654  0.33267 -0.1101   0.05021  0.05068  0.27529 -0.67136  0.4437\n",
      "   0.11721  0.02564]\n",
      " [-0.1315   0.11754  0.96301  0.06541  0.18998  0.01439  0.00029  0.00465\n",
      "  -0.00662  0.02945]]\n",
      "            0         1\n",
      "0   -0.028854  0.624815\n",
      "1   -0.056753  0.634292\n",
      "2    0.047738  0.679721\n",
      "3    0.255865  0.439092\n",
      "4   -0.138431  0.667526\n",
      "..        ...       ...\n",
      "564 -0.082862  0.759688\n",
      "565  0.062654  0.689112\n",
      "566  0.096861  0.524243\n",
      "567  0.054933  0.800212\n",
      "568  0.207445  0.087442\n",
      "\n",
      "[569 rows x 2 columns]\n",
      "\n",
      "-----------------------------------\n",
      "Your results should look like this:\n",
      "-----------------------------------\n",
      "Eigen values: \n",
      "[0.15632 0.05609 0.01875 0.01012 0.00688 0.00348 0.00001 0.00027 0.00121 0.00206]\n",
      "First 2 Eigen vectors: \n",
      "[[-0.36654  0.33267]\n",
      " [-0.1315   0.11754]\n",
      " [-0.38051  0.30003]\n",
      " [-0.32796  0.28817]\n",
      " [-0.16268 -0.33468]\n",
      " [-0.34395 -0.32018]\n",
      " [-0.43907 -0.17375]\n",
      " [-0.47861 -0.04037]\n",
      " [-0.16356 -0.34204]\n",
      " [-0.05141 -0.58234]]\n",
      "Transformed data:\n",
      "           0         1\n",
      "0 -1.692053 -0.746755\n",
      "1 -1.105772  0.158411\n",
      "2 -1.479314 -0.159259\n",
      "3 -1.335070 -1.286536\n",
      "4 -1.364975 -0.036868\n",
      "-----------------------------------\n",
      "\n"
     ]
    }
   ],
   "source": [
    "evalue, evect = np.linalg.eig(cov_mat)\n",
    "\n",
    "#print(evalue)\n",
    "print (evect[[0,1],:])\n",
    "\n",
    "#creates homogenous matrix\n",
    "\n",
    "dsTransformed = np.matmul(cancer_x,evect[[0,1],:].T )\n",
    "\n",
    "print(dsTransformed)\n",
    "#print(dsTransformed0)\n",
    "\n",
    "print('''\n",
    "-----------------------------------\n",
    "Your results should look like this:\n",
    "-----------------------------------\n",
    "Eigen values: \n",
    "[0.15632 0.05609 0.01875 0.01012 0.00688 0.00348 0.00001 0.00027 0.00121 0.00206]\n",
    "First 2 Eigen vectors: \n",
    "[[-0.36654  0.33267]\n",
    " [-0.1315   0.11754]\n",
    " [-0.38051  0.30003]\n",
    " [-0.32796  0.28817]\n",
    " [-0.16268 -0.33468]\n",
    " [-0.34395 -0.32018]\n",
    " [-0.43907 -0.17375]\n",
    " [-0.47861 -0.04037]\n",
    " [-0.16356 -0.34204]\n",
    " [-0.05141 -0.58234]]\n",
    "Transformed data:\n",
    "           0         1\n",
    "0 -1.692053 -0.746755\n",
    "1 -1.105772  0.158411\n",
    "2 -1.479314 -0.159259\n",
    "3 -1.335070 -1.286536\n",
    "4 -1.364975 -0.036868\n",
    "-----------------------------------\n",
    "''')"
   ]
  },
  {
   "cell_type": "markdown",
   "metadata": {},
   "source": [
    "### 3b) Graph a scatterplot of the transformed data\n",
    "\n",
    "Graph a scatterplot of the transformed data using [plt.scatter](https://matplotlib.org/3.3.3/api/_as_gen/matplotlib.axes.Axes.scatter.html)\n",
    "1. Scatter Parameters\n",
    "    1. Graph the first principle component on the x axis (first column of the tranformed data)\n",
    "    2. Graph the second principle component on the y axis (second column of the tranformed data)\n",
    "    3. Use the `cancer_y` series for the color with a black edgecolor\n",
    "3. Include a title, and axis labels.\n",
    "4. Add a custom [legend](https://matplotlib.org/3.3.3/tutorials/intermediate/legend_guide.html) using mpatches.\n",
    "    1. Create 1 patch with the color `m` for malignant\n",
    "    1. Create 1 patch with the color `b` for benign"
   ]
  },
  {
   "cell_type": "code",
   "execution_count": 62,
   "metadata": {},
   "outputs": [
    {
     "name": "stdout",
     "output_type": "stream",
     "text": [
      "0     -0.028854\n",
      "1     -0.056753\n",
      "2      0.047738\n",
      "3      0.255865\n",
      "4     -0.138431\n",
      "         ...   \n",
      "564   -0.082862\n",
      "565    0.062654\n",
      "566    0.096861\n",
      "567    0.054933\n",
      "568    0.207445\n",
      "Name: 0, Length: 569, dtype: float64\n"
     ]
    },
    {
     "data": {
      "image/png": "[encoded data removed]",
      "text/plain": [
       "<Figure size 576x576 with 1 Axes>"
      ]
     },
     "metadata": {},
     "output_type": "display_data"
    }
   ],
   "source": [
    "import matplotlib.patches as mpatches\n",
    "\n",
    "\n",
    "fig = plt.figure()\n",
    "ax = fig.add_subplot(1, 1, 1)\n",
    "\n",
    "x = dsTransformed[0]\n",
    "print(x)\n",
    "\n",
    "plt.scatter(x,cancer_y, c = 'r', label='Col 0')\n",
    "plt.scatter(dsTransformed[1],cancer_y, c = 'g', label='Col 1')\n",
    "\n",
    "plt.legend(loc='upper right')\n",
    "\n",
    "plt.show()"
   ]
  },
  {
   "cell_type": "code",
   "execution_count": null,
   "metadata": {},
   "outputs": [],
   "source": []
  }
 ],
 "metadata": {
  "kernelspec": {
   "display_name": "Python 3",
   "language": "python",
   "name": "python3"
  },
  "language_info": {
   "codemirror_mode": {
    "name": "ipython",
    "version": 3
   },
   "file_extension": ".py",
   "mimetype": "text/x-python",
   "name": "python",
   "nbconvert_exporter": "python",
   "pygments_lexer": "ipython3",
   "version": "3.8.5"
  }
 },
 "nbformat": 4,
 "nbformat_minor": 4
}
